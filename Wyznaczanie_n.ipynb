{
  "metadata": {
    "kernelspec": {
      "name": "python",
      "display_name": "Python (Pyodide)",
      "language": "python"
    },
    "language_info": {
      "codemirror_mode": {
        "name": "python",
        "version": 3
      },
      "file_extension": ".py",
      "mimetype": "text/x-python",
      "name": "python",
      "nbconvert_exporter": "python",
      "pygments_lexer": "ipython3",
      "version": "3.8"
    }
  },
  "nbformat_minor": 5,
  "nbformat": 4,
  "cells": [
    {
      "id": "e012f2fa-dbc5-4e85-9935-448f77f1b753",
      "cell_type": "code",
      "source": "import math\ndef szukanie(l,p):\n    s=0\n    n=0\n    while s<=p:\n        s=s+math.exp(-l)*math.pow(l, n)/math.factorial(n)\n        n=n+1\n        print(s)\n    print(n-1)",
      "metadata": {
        "trusted": true
      },
      "outputs": [],
      "execution_count": 39
    },
    {
      "id": "92e83283-2d1b-419a-accb-f33cbf3d7a2b",
      "cell_type": "code",
      "source": "szukanie(2,0.99) #wpisz za 2 parametr lambda, a za 0.99 interesujące cię prawdopodobieństwo",
      "metadata": {
        "trusted": true
      },
      "outputs": [
        {
          "name": "stdout",
          "output_type": "stream",
          "text": "0.1353352832366127\n0.4060058497098381\n0.6766764161830635\n0.8571234604985472\n0.9473469826562889\n0.9834363915193857\n0.9954661944737513\n6\n"
        }
      ],
      "execution_count": 46
    },
    {
      "id": "a22bd296-19cb-466f-b234-ae2e9601ae75",
      "cell_type": "code",
      "source": "",
      "metadata": {
        "trusted": true
      },
      "outputs": [],
      "execution_count": null
    }
  ]
}